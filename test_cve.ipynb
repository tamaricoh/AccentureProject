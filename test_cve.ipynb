{
 "cells": [
  {
   "cell_type": "code",
   "execution_count": 9,
   "metadata": {},
   "outputs": [],
   "source": [
    "import numpy as np\n",
    "import pandas as pd\n",
    "import torch\n",
    "from tqdm.notebook import tqdm\n",
    "from sklearn.preprocessing import LabelEncoder\n",
    "from sklearn.model_selection import train_test_split, StratifiedKFold\n",
    "from transformers import BertTokenizer, BertForSequenceClassification\n",
    "from torch.utils.data import TensorDataset, DataLoader, RandomSampler, SequentialSampler\n",
    "from transformers import AdamW, get_linear_schedule_with_warmup\n",
    "from sklearn.metrics import f1_score\n",
    "import matplotlib.pyplot as plt\n",
    "from sklearn.utils import shuffle\n",
    "from sklearn.model_selection import KFold\n",
    "import datetime"
   ]
  },
  {
   "cell_type": "code",
   "execution_count": 10,
   "metadata": {},
   "outputs": [],
   "source": [
    "batch_size = 16\n",
    "df = pd.read_csv('dataset.csv')\n",
    "labels = df['Artifact Id']\n",
    "label_counts = labels.value_counts()\n",
    "filtered_labels = label_counts[(label_counts >= 5) & (label_counts <= 200)] # Remove \"Command\" label\n",
    "filtered_labels_list = filtered_labels.index.tolist()\n",
    "def tokenize_data(texts, tokenizer):\n",
    "    return tokenizer(texts, padding=True, truncation=True, return_tensors='pt', max_length=512)\n",
    "device = torch.device(\"cuda\" if torch.cuda.is_available() else \"cpu\")"
   ]
  },
  {
   "cell_type": "code",
   "execution_count": 11,
   "metadata": {},
   "outputs": [],
   "source": [
    "# model_path = \"model_2024-12-03_16-37-16.pth\"\n",
    "# model_path = \"my_dict.pth\"\n",
    "# model_path = \"best_model.pth\"\n",
    "model_path = \"model_avr.pth\""
   ]
  },
  {
   "cell_type": "code",
   "execution_count": 13,
   "metadata": {},
   "outputs": [
    {
     "name": "stderr",
     "output_type": "stream",
     "text": [
      "Some weights of BertForSequenceClassification were not initialized from the model checkpoint at bert-base-uncased and are newly initialized: ['classifier.bias', 'classifier.weight']\n",
      "You should probably TRAIN this model on a down-stream task to be able to use it for predictions and inference.\n"
     ]
    },
    {
     "data": {
      "application/vnd.jupyter.widget-view+json": {
       "model_id": "f05db5759e064286885121cceac33087",
       "version_major": 2,
       "version_minor": 0
      },
      "text/plain": [
       "Making Predictions on New Data:   0%|          | 0/3 [00:00<?, ?it/s]"
      ]
     },
     "metadata": {},
     "output_type": "display_data"
    },
    {
     "name": "stdout",
     "output_type": "stream",
     "text": [
      "Predictions saved to cve_data_predictions.csv\n",
      "Accuracy: 52.78%\n",
      "F1 Score (Weighted): 0.38\n"
     ]
    }
   ],
   "source": [
    "cve_data_csv = \"cve_data.csv\"\n",
    "output_csv = \"cve_data_predictions.csv\"\n",
    "\n",
    "cve_data_df = pd.read_csv(cve_data_csv)\n",
    "cve_data_df = cve_data_df[cve_data_df['Artifact Id'] != 'd3f:System Software']\n",
    "\n",
    "saved_dict = torch.load(model_path, weights_only=True)\n",
    "\n",
    "_model = BertForSequenceClassification.from_pretrained(\n",
    "    'bert-base-uncased', \n",
    "    num_labels=len(filtered_labels_list)  \n",
    ")\n",
    "_model.load_state_dict(saved_dict)\n",
    "_model.to(device)\n",
    "_model.eval()\n",
    "\n",
    "tokenizer = BertTokenizer.from_pretrained('bert-base-uncased')\n",
    "encodings = tokenize_data(cve_data_df['Example Description'].tolist(), tokenizer)\n",
    "dataset = TensorDataset(encodings['input_ids'], encodings['attention_mask'])\n",
    "data_loader = DataLoader(dataset, sampler=SequentialSampler(dataset), batch_size=batch_size) \n",
    "\n",
    "\n",
    "predictions = []\n",
    "with torch.no_grad():\n",
    "    for batch in tqdm(data_loader, desc=\"Making Predictions on New Data\"):\n",
    "        input_ids, attention_mask = [item.to(device) for item in batch]\n",
    "        outputs = _model(input_ids=input_ids, attention_mask=attention_mask)\n",
    "        logits = outputs.logits\n",
    "        preds = torch.argmax(logits, dim=-1)\n",
    "        predictions.extend(preds.cpu().tolist())\n",
    "\n",
    "# prediction_column_name = \"Predicted Label\"\n",
    "\n",
    "# cve_data_df['Predicted Label'] = predictions\n",
    "\n",
    "# true_labels = cve_data_df['Artifact Id'].tolist()\n",
    "\n",
    "# # Calculate accuracy and F1 score\n",
    "# accuracy = np.sum(np.array(predictions) == np.array(true_labels)) / len(true_labels) * 100  # in percentage\n",
    "# # f1 = f1_score(true_labels, predictions, average='weighted')\n",
    "\n",
    "# cve_data_df[['Artifact Id', 'Predicted Label']].to_csv(output_csv, index=False)\n",
    "# print(f\"Predictions saved to {output_csv}\")\n",
    "        \n",
    "# Map predictions back to labels        \n",
    "predicted_labels = [filtered_labels_list[pred] for pred in predictions]\n",
    "\n",
    "# Add predictions to DataFrame\n",
    "cve_data_df['Predicted Label'] = predicted_labels\n",
    "\n",
    "# Convert true labels to the same format\n",
    "true_labels = cve_data_df['Artifact Id'].map(lambda x: filtered_labels_list.index(x)).tolist()\n",
    "\n",
    "# Calculate accuracy\n",
    "accuracy = np.sum(np.array(predictions) == np.array(true_labels)) / len(true_labels) * 100\n",
    "\n",
    "# Calculate F1 score (weighted average for multi-class classification)\n",
    "f1 = f1_score(true_labels, predictions, average='weighted')\n",
    "\n",
    "# Save predictions to CSV\n",
    "cve_data_df[['Artifact Id', 'Predicted Label']].to_csv(output_csv, index=False)\n",
    "print(f\"Predictions saved to {output_csv}\")\n",
    "print(f\"Accuracy: {accuracy:.2f}%\")\n",
    "print(f\"F1 Score (Weighted): {f1:.2f}\")"
   ]
  }
 ],
 "metadata": {
  "kernelspec": {
   "display_name": "llm_env",
   "language": "python",
   "name": "python3"
  },
  "language_info": {
   "codemirror_mode": {
    "name": "ipython",
    "version": 3
   },
   "file_extension": ".py",
   "mimetype": "text/x-python",
   "name": "python",
   "nbconvert_exporter": "python",
   "pygments_lexer": "ipython3",
   "version": "3.12.3"
  }
 },
 "nbformat": 4,
 "nbformat_minor": 2
}
