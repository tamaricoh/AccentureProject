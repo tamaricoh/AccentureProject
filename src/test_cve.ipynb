{
 "cells": [
  {
   "cell_type": "code",
   "execution_count": 1,
   "metadata": {},
   "outputs": [],
   "source": [
    "import pandas as pd\n",
    "import torch\n",
    "from transformers import BertTokenizer\n",
    "from torch.utils.data import DataLoader, SequentialSampler\n",
    "from pys.functions import CustomBertModel, create_dataset, test\n",
    "from pys.data import filtered_labels_at_least_5_list\n",
    "from pys.params import batch_size"
   ]
  },
  {
   "cell_type": "code",
   "execution_count": 2,
   "metadata": {},
   "outputs": [],
   "source": [
    "batch_size = batch_size\n",
    "labels_list = filtered_labels_at_least_5_list\n",
    "tokenizer = BertTokenizer.from_pretrained('bert-base-uncased')\n",
    "label_mapping = {label: idx for idx, label in enumerate(filtered_labels_at_least_5_list)}\n",
    "reverse_label_mapping = {v: k for k, v in label_mapping.items()}\n",
    "device = torch.device(\"cuda\" if torch.cuda.is_available() else \"cpu\")"
   ]
  },
  {
   "cell_type": "code",
   "execution_count": 5,
   "metadata": {},
   "outputs": [],
   "source": [
    "cve_data_csv = \"../csv/cve_data.csv\"\n",
    "output_csv = \"../csv/cve_data_predictions.csv\"\n",
    "\n",
    "cve_data_df = pd.read_csv(cve_data_csv)\n",
    "cve_data_df = cve_data_df[cve_data_df['Artifact Id'] != 'd3f:System Software']"
   ]
  },
  {
   "cell_type": "code",
   "execution_count": 8,
   "metadata": {},
   "outputs": [],
   "source": [
    "def cve_test(model_path):\n",
    "    _model = CustomBertModel(num_labels=len(filtered_labels_at_least_5_list))\n",
    "\n",
    "    state_dict = torch.load(model_path, weights_only=True)\n",
    "    _model.load_state_dict(state_dict)\n",
    "    _model.to(device)\n",
    "    _model.eval()\n",
    "\n",
    "    dataset = create_dataset(cve_data_df, tokenizer, label_mapping)\n",
    "    data_loader = DataLoader(dataset, sampler=SequentialSampler(dataset), batch_size=batch_size)\n",
    "\n",
    "    predictions, _ = test(_model, data_loader, device)\n",
    "    predictions = [reverse_label_mapping[pred] for pred in predictions]\n",
    "\n",
    "\n",
    "    prediction_column_name = f\"{model_path} prediction\"\n",
    "\n",
    "    cve_data_df[prediction_column_name] = predictions\n",
    "\n",
    "\n",
    "    # Save the predictions to CSV\n",
    "    cve_data_df[['Artifact Id', prediction_column_name]].to_csv(output_csv, index=False)\n",
    "    print(f\"Predictions saved to {output_csv}\")"
   ]
  },
  {
   "cell_type": "code",
   "execution_count": 10,
   "metadata": {},
   "outputs": [
    {
     "name": "stderr",
     "output_type": "stream",
     "text": [
      "Some weights of BertForSequenceClassification were not initialized from the model checkpoint at bert-base-uncased and are newly initialized: ['classifier.bias', 'classifier.weight']\n",
      "You should probably TRAIN this model on a down-stream task to be able to use it for predictions and inference.\n"
     ]
    },
    {
     "data": {
      "application/vnd.jupyter.widget-view+json": {
       "model_id": "d55152f66b384aef82509745664ef643",
       "version_major": 2,
       "version_minor": 0
      },
      "text/plain": [
       "Evaluating:   0%|          | 0/3 [00:00<?, ?it/s]"
      ]
     },
     "metadata": {},
     "output_type": "display_data"
    },
    {
     "name": "stdout",
     "output_type": "stream",
     "text": [
      "F1 Score (Weighted): 0.2737\n",
      "Accuracy: 19.44%\n",
      "Predictions saved to cve_data_predictions.csv\n"
     ]
    }
   ],
   "source": [
    "model_path = \"../models/model_2024-12-16_14-53-35.pth\"\n",
    "cve_test(model_path)"
   ]
  }
 ],
 "metadata": {
  "kernelspec": {
   "display_name": "llm_env",
   "language": "python",
   "name": "python3"
  },
  "language_info": {
   "codemirror_mode": {
    "name": "ipython",
    "version": 3
   },
   "file_extension": ".py",
   "mimetype": "text/x-python",
   "name": "python",
   "nbconvert_exporter": "python",
   "pygments_lexer": "ipython3",
   "version": "3.12.3"
  }
 },
 "nbformat": 4,
 "nbformat_minor": 2
}
