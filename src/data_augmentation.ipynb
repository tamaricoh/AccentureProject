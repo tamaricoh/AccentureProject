{
 "cells": [
  {
   "cell_type": "code",
   "execution_count": 10,
   "metadata": {},
   "outputs": [],
   "source": [
    "import pandas as pd\n",
    "import random\n",
    "from pys.data import combined_df, filtered_labels_at_least_5_list\n",
    "from pys.llama import LLAMA31_8B_LLM"
   ]
  },
  {
   "cell_type": "code",
   "execution_count": 11,
   "metadata": {},
   "outputs": [],
   "source": [
    "def rephrase(description, author):\n",
    "    \"\"\"\n",
    "    Rephrases the given description as if it were written by the specified author.\n",
    "    \n",
    "    Args:\n",
    "        description (str): The text to be rephrased.\n",
    "        author (str): The name of the person whose writing style is to be emulated.\n",
    "        \n",
    "    Returns:\n",
    "        str: The rephrased description.\n",
    "    \"\"\"\n",
    "    message = LLAMA31_8B_LLM.invoke(\n",
    "        f\"Rewrite the following description as if it were written by {author['author_title']} who is an expert in {author['expertise']}, without introducing or describing the rewritten text. Provide only the rephrased version: {description}\"\n",
    "    )\n",
    "    return message.content\n"
   ]
  },
  {
   "cell_type": "code",
   "execution_count": 12,
   "metadata": {},
   "outputs": [],
   "source": [
    "authors = [\n",
    "    {\n",
    "        \"author_title\": \"Senior Developer\",\n",
    "        \"expertise\": \"Unix commands, software development tools, and debugging utilities.\"\n",
    "    },\n",
    "    {\n",
    "        \"author_title\": \"Security Researcher\",\n",
    "        \"expertise\": \"Network protocols, interprocess communication, and hardware drivers.\"\n",
    "    },\n",
    "    {\n",
    "        \"author_title\": \"Database Architect\",\n",
    "        \"expertise\": \"Designing, scaling, and managing distributed and graph databases.\"\n",
    "    },\n",
    "    {\n",
    "        \"author_title\": \"Software Engineer\",\n",
    "        \"expertise\": \"Developing cross-platform applications, robotics software, and open-source projects.\"\n",
    "    },\n",
    "    {\n",
    "        \"author_title\": \"Technical Writer\",\n",
    "        \"expertise\": \"Documenting technical tools, APIs, and usage guides for software and hardware.\"\n",
    "    },\n",
    "    {\n",
    "        \"author_title\": \"Robotics Developer\",\n",
    "        \"expertise\": \"Developing software for robotics, complex systems, and distributed component architectures.\"\n",
    "    }\n",
    "]"
   ]
  },
  {
   "cell_type": "code",
   "execution_count": 13,
   "metadata": {},
   "outputs": [],
   "source": [
    "df = combined_df\n",
    "num_of_labels = len(filtered_labels_at_least_5_list)\n",
    "grouped_df = df.groupby('Artifact Id')\n",
    "df_dict = {artifact_id: group for artifact_id, group in grouped_df}\n",
    "label_dfs = {}\n",
    "\n",
    "for label in filtered_labels_at_least_5_list:\n",
    "    label_dfs[label] = df_dict.get(label, pd.DataFrame())"
   ]
  },
  {
   "cell_type": "code",
   "execution_count": 14,
   "metadata": {},
   "outputs": [
    {
     "name": "stdout",
     "output_type": "stream",
     "text": [
      "Processing DataFrame for label: d3f:Command\n"
     ]
    },
    {
     "name": "stdout",
     "output_type": "stream",
     "text": [
      "Processing DataFrame for label: d3f:Database\n",
      "Processing DataFrame for label: d3f:Software\n",
      "Processing DataFrame for label: d3f:HardwareDriver\n",
      "Processing DataFrame for label: d3f:DisplayServer\n",
      "Processing DataFrame for label: d3f:OperatingSystem\n",
      "Processing DataFrame for label: d3f:FileSystem\n",
      "Processing DataFrame for label: d3f:BootLoader\n",
      "Processing DataFrame for label: d3f:InterprocessCommunication\n"
     ]
    }
   ],
   "source": [
    "new_rows = []\n",
    "\n",
    "for label, label_df in label_dfs.items():\n",
    "    print(f\"Processing DataFrame for label: {label}\")\n",
    "    for index, row in label_df.iterrows():\n",
    "        description = row['Example Description']\n",
    "        for author in authors :\n",
    "            new_description = rephrase(description, author)\n",
    "            \n",
    "            updated_row = row.copy()\n",
    "            updated_row['Example Description'] = new_description\n",
    "            updated_row['Example Source'] = \"LLAMA3\"\n",
    "            \n",
    "            new_rows.append(updated_row)"
   ]
  },
  {
   "cell_type": "code",
   "execution_count": 15,
   "metadata": {},
   "outputs": [],
   "source": [
    "updated_df = pd.DataFrame(new_rows)\n",
    "updated_df.to_csv('../csv/dataset_aug_less.csv', index=False)"
   ]
  },
  {
   "cell_type": "code",
   "execution_count": 16,
   "metadata": {},
   "outputs": [],
   "source": [
    "merged_df = pd.concat([combined_df, updated_df], ignore_index=True)\n",
    "merged_df.to_csv('../csv/merged_aug_less.csv', index=False)"
   ]
  },
  {
   "cell_type": "code",
   "execution_count": 17,
   "metadata": {},
   "outputs": [
    {
     "name": "stdout",
     "output_type": "stream",
     "text": [
      "198\n"
     ]
    }
   ],
   "source": [
    "print(len(merged_df))"
   ]
  },
  {
   "cell_type": "code",
   "execution_count": 18,
   "metadata": {},
   "outputs": [
    {
     "name": "stdout",
     "output_type": "stream",
     "text": [
      "99\n",
      "6\n",
      "99\n"
     ]
    }
   ],
   "source": [
    "print(len(combined_df))\n",
    "print(len(authors))\n",
    "print(len(updated_df))"
   ]
  },
  {
   "cell_type": "code",
   "execution_count": 19,
   "metadata": {},
   "outputs": [],
   "source": [
    "import re"
   ]
  },
  {
   "cell_type": "code",
   "execution_count": 20,
   "metadata": {},
   "outputs": [
    {
     "name": "stdout",
     "output_type": "stream",
     "text": [
      "It seems like your question is cut off.\n",
      "Could you please provide more context or clarify what you would like to know?\n",
      "I'll do my best to assist you.\n"
     ]
    }
   ],
   "source": [
    "message = LLAMA31_8B_LLM.invoke(\"What\")\n",
    "message_content = message.content\n",
    "\n",
    "sentences = re.split(r'(?<=[.!?]) +', message_content)\n",
    "\n",
    "for sentence in sentences:\n",
    "    print(sentence)"
   ]
  }
 ],
 "metadata": {
  "kernelspec": {
   "display_name": "llm_env",
   "language": "python",
   "name": "python3"
  },
  "language_info": {
   "codemirror_mode": {
    "name": "ipython",
    "version": 3
   },
   "file_extension": ".py",
   "mimetype": "text/x-python",
   "name": "python",
   "nbconvert_exporter": "python",
   "pygments_lexer": "ipython3",
   "version": "3.12.3"
  }
 },
 "nbformat": 4,
 "nbformat_minor": 2
}
