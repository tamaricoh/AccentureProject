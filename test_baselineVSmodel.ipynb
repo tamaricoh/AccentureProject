{
 "cells": [
  {
   "cell_type": "code",
   "execution_count": 15,
   "metadata": {},
   "outputs": [],
   "source": [
    "import numpy as np\n",
    "import pandas as pd\n",
    "import torch\n",
    "from torch import nn\n",
    "from tqdm.notebook import tqdm\n",
    "from sklearn.preprocessing import LabelEncoder\n",
    "from sklearn.model_selection import train_test_split, StratifiedKFold\n",
    "from transformers import BertTokenizer, BertForSequenceClassification, AdamW, get_linear_schedule_with_warmup\n",
    "from torch.utils.data import TensorDataset, DataLoader, RandomSampler, SequentialSampler\n",
    "from sklearn.metrics import f1_score\n",
    "from sklearn.metrics import accuracy_score\n",
    "from projAll import batch_size, filtered_labels_at_least_5_list, CustomBertModel, create_dataset, test"
   ]
  },
  {
   "cell_type": "code",
   "execution_count": 16,
   "metadata": {},
   "outputs": [],
   "source": [
    "batch_size = batch_size\n",
    "labels_list = filtered_labels_at_least_5_list\n",
    "tokenizer = BertTokenizer.from_pretrained('bert-base-uncased')\n",
    "label_mapping = {label: idx for idx, label in enumerate(filtered_labels_at_least_5_list)}\n",
    "reverse_label_mapping = {v: k for k, v in label_mapping.items()}\n",
    "device = torch.device(\"cuda\" if torch.cuda.is_available() else \"cpu\")"
   ]
  },
  {
   "cell_type": "code",
   "execution_count": 18,
   "metadata": {},
   "outputs": [],
   "source": [
    "model_path = \"model_2024-12-16_12-53-34.pth\"\n",
    "model_path = \"model_2024-12-16_14-53-35.pth\"\n"
   ]
  },
  {
   "cell_type": "code",
   "execution_count": 22,
   "metadata": {},
   "outputs": [
    {
     "name": "stderr",
     "output_type": "stream",
     "text": [
      "Some weights of BertForSequenceClassification were not initialized from the model checkpoint at bert-base-uncased and are newly initialized: ['classifier.bias', 'classifier.weight']\n",
      "You should probably TRAIN this model on a down-stream task to be able to use it for predictions and inference.\n"
     ]
    },
    {
     "data": {
      "application/vnd.jupyter.widget-view+json": {
       "model_id": "4ab9247fe74f494fb56dad2fe9f075df",
       "version_major": 2,
       "version_minor": 0
      },
      "text/plain": [
       "Evaluating:   0%|          | 0/1 [00:00<?, ?it/s]"
      ]
     },
     "metadata": {},
     "output_type": "display_data"
    },
    {
     "name": "stdout",
     "output_type": "stream",
     "text": [
      "F1 Score (Weighted): 0.5568\n",
      "Accuracy: 62.50%\n",
      "Predictions saved to baselineVSmodel_predictions.csv\n"
     ]
    }
   ],
   "source": [
    "baseline_csv = \"baseline.csv\"\n",
    "output_csv = \"baselineVSmodel_predictions.csv\"\n",
    "\n",
    "baseline_df = pd.read_csv(baseline_csv)\n",
    "\n",
    "_model = CustomBertModel(num_labels=len(filtered_labels_at_least_5_list))\n",
    "\n",
    "state_dict = torch.load(model_path, weights_only=True)\n",
    "_model.load_state_dict(state_dict)\n",
    "_model.to(device)\n",
    "_model.eval()\n",
    "\n",
    "dataset = create_dataset(baseline_df, tokenizer, label_mapping)\n",
    "data_loader = DataLoader(dataset, sampler=SequentialSampler(dataset), batch_size=batch_size)\n",
    "\n",
    "predictions, _ = test(_model, data_loader, device)\n",
    "predictions = [reverse_label_mapping[pred] for pred in predictions]\n",
    "\n",
    "\n",
    "prediction_column_name = f\"{model_path} prediction\"\n",
    "\n",
    "baseline_df[prediction_column_name] = predictions\n",
    "\n",
    "\n",
    "baseline_df['baseline Prediction'] = baseline_df['Prediction']\n",
    "\n",
    "# Save the predictions to CSV\n",
    "baseline_df[['Artifact Id', 'baseline Prediction', prediction_column_name]].to_csv(output_csv, index=False)\n",
    "print(f\"Predictions saved to {output_csv}\")"
   ]
  },
  {
   "cell_type": "code",
   "execution_count": 21,
   "metadata": {},
   "outputs": [
    {
     "name": "stdout",
     "output_type": "stream",
     "text": [
      "Baseline Model F1 Score (Weighted): 0.1667\n",
      "Baseline Model Accuracy: 18.75%\n",
      "Model F1 Score (Weighted): 0.5568\n",
      "Model Accuracy: 62.50%\n"
     ]
    }
   ],
   "source": [
    "true_labels = baseline_df['Artifact Id'].tolist()\n",
    "true_labels = [label.replace('d3f:', '') for label in baseline_df['Artifact Id'].tolist()]\n",
    "\n",
    "baseline_predictions = baseline_df['baseline Prediction'].tolist()\n",
    "model_predictions = baseline_df[prediction_column_name].tolist()\n",
    "model_predictions = [label.replace('d3f:', '') for label in baseline_df[prediction_column_name].tolist()]\n",
    "\n",
    "# Calculate F1 Score for baseline model (assuming the labels are categorical)\n",
    "f1_baseline = f1_score(true_labels, baseline_predictions, average='weighted')\n",
    "f1_model = f1_score(true_labels, model_predictions, average='weighted')\n",
    "\n",
    "# Calculate accuracy for both models\n",
    "accuracy_baseline = accuracy_score(true_labels, baseline_predictions) * 100\n",
    "accuracy_model = accuracy_score(true_labels, model_predictions) * 100\n",
    "\n",
    "# Print out the results\n",
    "print(f\"Baseline Model F1 Score (Weighted): {f1_baseline:.4f}\")\n",
    "print(f\"Baseline Model Accuracy: {accuracy_baseline:.2f}%\")\n",
    "print(f\"Model F1 Score (Weighted): {f1_model:.4f}\")\n",
    "print(f\"Model Accuracy: {accuracy_model:.2f}%\")"
   ]
  }
 ],
 "metadata": {
  "kernelspec": {
   "display_name": "llm_env",
   "language": "python",
   "name": "python3"
  },
  "language_info": {
   "codemirror_mode": {
    "name": "ipython",
    "version": 3
   },
   "file_extension": ".py",
   "mimetype": "text/x-python",
   "name": "python",
   "nbconvert_exporter": "python",
   "pygments_lexer": "ipython3",
   "version": "3.12.3"
  }
 },
 "nbformat": 4,
 "nbformat_minor": 2
}
