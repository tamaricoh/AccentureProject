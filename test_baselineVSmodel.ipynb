{
 "cells": [
  {
   "cell_type": "code",
   "execution_count": 25,
   "metadata": {},
   "outputs": [],
   "source": [
    "import numpy as np\n",
    "import pandas as pd\n",
    "import torch\n",
    "from tqdm.notebook import tqdm\n",
    "from sklearn.preprocessing import LabelEncoder\n",
    "from sklearn.model_selection import train_test_split, StratifiedKFold\n",
    "from transformers import BertTokenizer, BertForSequenceClassification\n",
    "from torch.utils.data import TensorDataset, DataLoader, RandomSampler, SequentialSampler\n",
    "from transformers import AdamW, get_linear_schedule_with_warmup\n",
    "from sklearn.metrics import f1_score\n",
    "import matplotlib.pyplot as plt\n",
    "from sklearn.utils import shuffle\n",
    "from sklearn.model_selection import KFold\n",
    "import datetime"
   ]
  },
  {
   "cell_type": "code",
   "execution_count": 26,
   "metadata": {},
   "outputs": [],
   "source": [
    "batch_size = 16\n",
    "def tokenize_data(texts, tokenizer):\n",
    "    return tokenizer(texts, padding=True, truncation=True, return_tensors='pt', max_length=512)\n",
    "device = torch.device(\"cuda\" if torch.cuda.is_available() else \"cpu\")"
   ]
  },
  {
   "cell_type": "code",
   "execution_count": 27,
   "metadata": {},
   "outputs": [],
   "source": [
    "model_name = \"model_2024-12-03_15-20-23.pth\""
   ]
  },
  {
   "cell_type": "code",
   "execution_count": 31,
   "metadata": {},
   "outputs": [
    {
     "name": "stderr",
     "output_type": "stream",
     "text": [
      "Some weights of BertForSequenceClassification were not initialized from the model checkpoint at bert-base-uncased and are newly initialized: ['classifier.bias', 'classifier.weight']\n",
      "You should probably TRAIN this model on a down-stream task to be able to use it for predictions and inference.\n"
     ]
    },
    {
     "ename": "KeyError",
     "evalue": "'model_state_dict'",
     "output_type": "error",
     "traceback": [
      "\u001b[1;31m---------------------------------------------------------------------------\u001b[0m",
      "\u001b[1;31mKeyError\u001b[0m                                  Traceback (most recent call last)",
      "Cell \u001b[1;32mIn[31], line 14\u001b[0m\n\u001b[0;32m      8\u001b[0m checkpoint \u001b[38;5;241m=\u001b[39m torch\u001b[38;5;241m.\u001b[39mload(model_path, map_location\u001b[38;5;241m=\u001b[39mdevice)\n\u001b[0;32m     10\u001b[0m model \u001b[38;5;241m=\u001b[39m BertForSequenceClassification\u001b[38;5;241m.\u001b[39mfrom_pretrained(\n\u001b[0;32m     11\u001b[0m     \u001b[38;5;124m'\u001b[39m\u001b[38;5;124mbert-base-uncased\u001b[39m\u001b[38;5;124m'\u001b[39m, \n\u001b[0;32m     12\u001b[0m     num_labels\u001b[38;5;241m=\u001b[39m\u001b[38;5;28mlen\u001b[39m(checkpoint[\u001b[38;5;124m'\u001b[39m\u001b[38;5;124mlabel_mapping\u001b[39m\u001b[38;5;124m'\u001b[39m])  \n\u001b[0;32m     13\u001b[0m )\n\u001b[1;32m---> 14\u001b[0m model\u001b[38;5;241m.\u001b[39mload_state_dict(checkpoint[\u001b[38;5;124m'\u001b[39m\u001b[38;5;124mmodel_state_dict\u001b[39m\u001b[38;5;124m'\u001b[39m])  \n\u001b[0;32m     15\u001b[0m model\u001b[38;5;241m.\u001b[39mto(device)\n\u001b[0;32m     16\u001b[0m model\u001b[38;5;241m.\u001b[39meval()\n",
      "\u001b[1;31mKeyError\u001b[0m: 'model_state_dict'"
     ]
    }
   ],
   "source": [
    "baseline_csv = \"baseline.csv\"\n",
    "output_csv = \"baselineVSmodel_predictions.csv\"\n",
    "model_path = model_name\n",
    "device = torch.device('cuda' if torch.cuda.is_available() else 'cpu')\n",
    "\n",
    "baseline_df = pd.read_csv(baseline_csv)\n",
    "\n",
    "checkpoint = torch.load(model_path, map_location=device)\n",
    "\n",
    "model = BertForSequenceClassification.from_pretrained(\n",
    "    'bert-base-uncased', \n",
    "    num_labels=len(checkpoint['label_mapping'])  \n",
    ")\n",
    "model.load_state_dict(checkpoint['model_state_dict'])  \n",
    "model.to(device)\n",
    "model.eval()\n",
    "\n",
    "tokenizer = checkpoint['tokenizer']\n",
    "filtered_labels_list = checkpoint['label_mapping']\n",
    "\n",
    "\n",
    "encodings = tokenize_data(baseline_df['Example Description'].tolist(), tokenizer)\n",
    "dataset = TensorDataset(encodings['input_ids'], encodings['attention_mask'])\n",
    "data_loader = DataLoader(dataset, sampler=SequentialSampler(dataset), batch_size=16) \n",
    "\n",
    "predictions = []\n",
    "with torch.no_grad():\n",
    "    for batch in tqdm(data_loader, desc=\"Making Predictions\"):\n",
    "        input_ids, attention_mask = [item.to(device) for item in batch]\n",
    "        outputs = model(input_ids=input_ids, attention_mask=attention_mask)\n",
    "        logits = outputs.logits\n",
    "        preds = torch.argmax(logits, dim=-1)\n",
    "        predictions.extend(preds.cpu().tolist())\n",
    "\n",
    "prediction_column_name = f\"{model_name} prediction\"\n",
    "\n",
    "baseline_df[prediction_column_name] = [\n",
    "    filtered_labels_list[pred] for pred in predictions\n",
    "]\n",
    "\n",
    "# Keep baseline predictions for comparison\n",
    "baseline_df['baseline Prediction'] = baseline_df['Prediction']\n",
    "\n",
    "# Save the predictions to CSV\n",
    "baseline_df[['Artifact Id', 'baseline Prediction', prediction_column_name]].to_csv(output_csv, index=False)\n",
    "print(f\"Predictions saved to {output_csv}\")"
   ]
  },
  {
   "cell_type": "code",
   "execution_count": 30,
   "metadata": {},
   "outputs": [
    {
     "name": "stdout",
     "output_type": "stream",
     "text": [
      "Baseline Model F1 Score (Weighted): 0.1667\n",
      "Baseline Model Accuracy: 18.75%\n",
      "Model F1 Score (Weighted): 0.4048\n",
      "Model Accuracy: 50.00%\n"
     ]
    }
   ],
   "source": [
    "true_labels = baseline_df['Artifact Id'].tolist()\n",
    "true_labels = [label.replace('d3f:', '') for label in baseline_df['Artifact Id'].tolist()]\n",
    "\n",
    "baseline_predictions = baseline_df['baseline Prediction'].tolist()\n",
    "model_predictions = baseline_df[prediction_column_name].tolist()\n",
    "model_predictions = [label.replace('d3f:', '') for label in baseline_df[prediction_column_name].tolist()]\n",
    "\n",
    "# Calculate F1 Score for baseline model (assuming the labels are categorical)\n",
    "f1_baseline = f1_score(true_labels, baseline_predictions, average='weighted')\n",
    "f1_model = f1_score(true_labels, model_predictions, average='weighted')\n",
    "\n",
    "# Calculate accuracy for both models\n",
    "accuracy_baseline = np.sum(np.array(baseline_predictions) == np.array(true_labels)) / len(true_labels) * 100\n",
    "accuracy_model = np.sum(np.array(model_predictions) == np.array(true_labels)) / len(true_labels) * 100\n",
    "\n",
    "# Print out the results\n",
    "print(f\"Baseline Model F1 Score (Weighted): {f1_baseline:.4f}\")\n",
    "print(f\"Baseline Model Accuracy: {accuracy_baseline:.2f}%\")\n",
    "print(f\"Model F1 Score (Weighted): {f1_model:.4f}\")\n",
    "print(f\"Model Accuracy: {accuracy_model:.2f}%\")"
   ]
  }
 ],
 "metadata": {
  "kernelspec": {
   "display_name": "llm_env",
   "language": "python",
   "name": "python3"
  },
  "language_info": {
   "codemirror_mode": {
    "name": "ipython",
    "version": 3
   },
   "file_extension": ".py",
   "mimetype": "text/x-python",
   "name": "python",
   "nbconvert_exporter": "python",
   "pygments_lexer": "ipython3",
   "version": "3.12.3"
  }
 },
 "nbformat": 4,
 "nbformat_minor": 2
}
