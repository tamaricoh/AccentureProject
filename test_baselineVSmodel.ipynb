{
 "cells": [
  {
   "cell_type": "code",
   "execution_count": 1,
   "metadata": {},
   "outputs": [],
   "source": [
    "import numpy as np\n",
    "import pandas as pd\n",
    "import torch\n",
    "from tqdm.notebook import tqdm\n",
    "from sklearn.preprocessing import LabelEncoder\n",
    "from sklearn.model_selection import train_test_split, StratifiedKFold\n",
    "from transformers import BertTokenizer, BertForSequenceClassification\n",
    "from torch.utils.data import TensorDataset, DataLoader, RandomSampler, SequentialSampler\n",
    "from transformers import AdamW, get_linear_schedule_with_warmup\n",
    "from sklearn.metrics import f1_score\n",
    "import matplotlib.pyplot as plt\n",
    "from sklearn.utils import shuffle\n",
    "from sklearn.model_selection import KFold\n",
    "import datetime"
   ]
  },
  {
   "cell_type": "code",
   "execution_count": 10,
   "metadata": {},
   "outputs": [],
   "source": [
    "batch_size = 16\n",
    "def tokenize_data(texts, tokenizer, max_length=512):\n",
    "    return tokenizer(\n",
    "        texts,\n",
    "        padding=True,\n",
    "        truncation=True,\n",
    "        max_length=max_length,\n",
    "        return_tensors='pt'\n",
    "    )\n",
    "device = torch.device(\"cuda\" if torch.cuda.is_available() else \"cpu\")"
   ]
  },
  {
   "cell_type": "code",
   "execution_count": 11,
   "metadata": {},
   "outputs": [
    {
     "name": "stdout",
     "output_type": "stream",
     "text": [
      "dict_keys(['model_state_dict', 'optimizer_state_dict', 'scheduler_state_dict', 'tokenizer', 'label_mapping'])\n"
     ]
    },
    {
     "name": "stderr",
     "output_type": "stream",
     "text": [
      "Some weights of BertForSequenceClassification were not initialized from the model checkpoint at bert-base-uncased and are newly initialized: ['classifier.bias', 'classifier.weight']\n",
      "You should probably TRAIN this model on a down-stream task to be able to use it for predictions and inference.\n"
     ]
    },
    {
     "data": {
      "application/vnd.jupyter.widget-view+json": {
       "model_id": "8d93fa485a894279867935ceca93521c",
       "version_major": 2,
       "version_minor": 0
      },
      "text/plain": [
       "Making Predictions:   0%|          | 0/1 [00:00<?, ?it/s]"
      ]
     },
     "metadata": {},
     "output_type": "display_data"
    },
    {
     "name": "stdout",
     "output_type": "stream",
     "text": [
      "Predictions saved to baselineVSmodel_predictions.csv\n"
     ]
    }
   ],
   "source": [
    "baseline_csv = \"baseline.csv\"\n",
    "output_csv = \"baselineVSmodel_predictions.csv\"\n",
    "model_path = \"model_2024-11-29_11-36-12.pth\"\n",
    "device = torch.device('cuda' if torch.cuda.is_available() else 'cpu')\n",
    "\n",
    "baseline_df = pd.read_csv(baseline_csv)\n",
    "\n",
    "checkpoint = torch.load(model_path, map_location=device)\n",
    "print(checkpoint.keys())\n",
    "# Initialize the model\n",
    "model = BertForSequenceClassification.from_pretrained(\n",
    "    'bert-base-uncased', num_labels=len(checkpoint['label_mapping'])\n",
    ")\n",
    "model.load_state_dict(checkpoint['model_state_dict'])\n",
    "model.to(device)\n",
    "model.eval()\n",
    "\n",
    "# Load tokenizer and label mapping\n",
    "tokenizer = checkpoint['tokenizer']\n",
    "filtered_labels_list = checkpoint['label_mapping']\n",
    "\n",
    "encodings = tokenize_data(baseline_df['Example Description'].tolist(), tokenizer)\n",
    "dataset = TensorDataset(encodings['input_ids'], encodings['attention_mask'])\n",
    "data_loader = DataLoader(dataset, sampler=SequentialSampler(dataset), batch_size=16)  # Adjust batch_size if needed\n",
    "\n",
    "# Make predictions\n",
    "predictions = []\n",
    "with torch.no_grad():\n",
    "    for batch in tqdm(data_loader, desc=\"Making Predictions\"):\n",
    "        input_ids, attention_mask = [item.to(device) for item in batch]\n",
    "        outputs = model(input_ids=input_ids, attention_mask=attention_mask)\n",
    "        logits = outputs.logits\n",
    "        preds = torch.argmax(logits, dim=-1)\n",
    "        predictions.extend(preds.cpu().tolist())\n",
    "\n",
    "# Map predictions to artifact IDs\n",
    "baseline_df['model_2024-11-29_11-36-12 Prediction'] = [\n",
    "    filtered_labels_list[pred] for pred in predictions\n",
    "]\n",
    "\n",
    "# Keep baseline predictions for comparison\n",
    "baseline_df['baseline Prediction'] = baseline_df['Prediction']\n",
    "\n",
    "# Save the predictions to CSV\n",
    "baseline_df[['Artifact Id', 'baseline Prediction', 'model_2024-11-29_11-36-12 Prediction']].to_csv(output_csv, index=False)\n",
    "print(f\"Predictions saved to {output_csv}\")"
   ]
  },
  {
   "cell_type": "code",
   "execution_count": 3,
   "metadata": {},
   "outputs": [
    {
     "name": "stderr",
     "output_type": "stream",
     "text": [
      "Some weights of BertForSequenceClassification were not initialized from the model checkpoint at bert-base-uncased and are newly initialized: ['classifier.bias', 'classifier.weight']\n",
      "You should probably TRAIN this model on a down-stream task to be able to use it for predictions and inference.\n"
     ]
    },
    {
     "data": {
      "application/vnd.jupyter.widget-view+json": {
       "model_id": "885db729d8c2477792ce1f7d23f56c3a",
       "version_major": 2,
       "version_minor": 0
      },
      "text/plain": [
       "Making Predictions:   0%|          | 0/1 [00:00<?, ?it/s]"
      ]
     },
     "metadata": {},
     "output_type": "display_data"
    },
    {
     "name": "stdout",
     "output_type": "stream",
     "text": [
      "Predictions saved to baselineVSmodel_predictions.csv\n"
     ]
    }
   ],
   "source": [
    "baseline_csv = \"baseline.csv\"\n",
    "output_csv = \"baselineVSmodel_predictions.csv\"\n",
    "model_path = \"model_2024-11-26_21-46-02.pth\" \n",
    "baseline_df = pd.read_csv(baseline_csv)\n",
    "\n",
    "model = BertForSequenceClassification.from_pretrained(\n",
    "    'bert-base-uncased', num_labels=8\n",
    ")\n",
    "model.load_state_dict(torch.load(model_path, map_location=device))\n",
    "model.to(device)\n",
    "model.eval()\n",
    "\n",
    "encodings = tokenize_data(baseline_df['Example Description'].tolist())\n",
    "dataset = TensorDataset(encodings['input_ids'], encodings['attention_mask'])\n",
    "data_loader = DataLoader(dataset, sampler=SequentialSampler(dataset), batch_size=batch_size)\n",
    "\n",
    "predictions = []\n",
    "\n",
    "\n",
    "with torch.no_grad():\n",
    "    for batch in tqdm(data_loader, desc=\"Making Predictions\"):\n",
    "        input_ids, attention_mask = [item.to(device) for item in batch]\n",
    "        outputs = model(input_ids=input_ids, attention_mask=attention_mask)\n",
    "        logits = outputs.logits\n",
    "        preds = torch.argmax(logits, dim=-1)\n",
    "        predictions.extend(preds.cpu().tolist())\n",
    "\n",
    "baseline_df['model_2024-11-26_21-46-02 Prediction'] = [baseline_df['Artifact Id'].iloc[i] for i in predictions]\n",
    "\n",
    "baseline_df['baseline Prediction'] = baseline_df['Prediction']\n",
    "\n",
    "baseline_df[['Artifact Id', 'baseline Prediction', 'model_2024-11-26_21-46-02 Prediction']].to_csv(output_csv, index=False)\n",
    "print(f\"Predictions saved to {output_csv}\")"
   ]
  },
  {
   "cell_type": "code",
   "execution_count": 5,
   "metadata": {},
   "outputs": [
    {
     "name": "stdout",
     "output_type": "stream",
     "text": [
      "Baseline Model F1 Score (Weighted): 0.1667\n",
      "Baseline Model Accuracy: 18.75%\n",
      "Model 2024-11-26_21-46-02 F1 Score (Weighted): 0.1500\n",
      "Model 2024-11-26_21-46-02 Accuracy: 18.75%\n"
     ]
    }
   ],
   "source": [
    "true_labels = baseline_df['Artifact Id'].tolist()\n",
    "true_labels = [label.replace('d3f:', '') for label in baseline_df['Artifact Id'].tolist()]\n",
    "\n",
    "baseline_predictions = baseline_df['baseline Prediction'].tolist()\n",
    "model_predictions = baseline_df['model_2024-11-26_21-46-02 Prediction'].tolist()\n",
    "model_predictions = [label.replace('d3f:', '') for label in baseline_df['model_2024-11-26_21-46-02 Prediction'].tolist()]\n",
    "\n",
    "# Calculate F1 Score for baseline model (assuming the labels are categorical)\n",
    "f1_baseline = f1_score(true_labels, baseline_predictions, average='weighted')\n",
    "f1_model = f1_score(true_labels, model_predictions, average='weighted')\n",
    "\n",
    "# Calculate accuracy for both models\n",
    "accuracy_baseline = np.sum(np.array(baseline_predictions) == np.array(true_labels)) / len(true_labels) * 100\n",
    "accuracy_model = np.sum(np.array(model_predictions) == np.array(true_labels)) / len(true_labels) * 100\n",
    "\n",
    "# Print out the results\n",
    "print(f\"Baseline Model F1 Score (Weighted): {f1_baseline:.4f}\")\n",
    "print(f\"Baseline Model Accuracy: {accuracy_baseline:.2f}%\")\n",
    "print(f\"Model 2024-11-26_21-46-02 F1 Score (Weighted): {f1_model:.4f}\")\n",
    "print(f\"Model 2024-11-26_21-46-02 Accuracy: {accuracy_model:.2f}%\")"
   ]
  }
 ],
 "metadata": {
  "kernelspec": {
   "display_name": "llm_env",
   "language": "python",
   "name": "python3"
  },
  "language_info": {
   "codemirror_mode": {
    "name": "ipython",
    "version": 3
   },
   "file_extension": ".py",
   "mimetype": "text/x-python",
   "name": "python",
   "nbconvert_exporter": "python",
   "pygments_lexer": "ipython3",
   "version": "3.12.3"
  }
 },
 "nbformat": 4,
 "nbformat_minor": 2
}
