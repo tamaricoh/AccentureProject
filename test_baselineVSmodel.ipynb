{
 "cells": [
  {
   "cell_type": "code",
   "execution_count": 7,
   "metadata": {},
   "outputs": [],
   "source": [
    "import numpy as np\n",
    "import pandas as pd\n",
    "import torch\n",
    "from tqdm.notebook import tqdm\n",
    "from sklearn.preprocessing import LabelEncoder\n",
    "from sklearn.model_selection import train_test_split, StratifiedKFold\n",
    "from transformers import BertTokenizer, BertForSequenceClassification\n",
    "from torch.utils.data import TensorDataset, DataLoader, RandomSampler, SequentialSampler\n",
    "from transformers import AdamW, get_linear_schedule_with_warmup\n",
    "from sklearn.metrics import f1_score\n",
    "import matplotlib.pyplot as plt\n",
    "from sklearn.utils import shuffle\n",
    "from sklearn.model_selection import KFold\n",
    "import datetime"
   ]
  },
  {
   "cell_type": "code",
   "execution_count": 8,
   "metadata": {},
   "outputs": [],
   "source": [
    "batch_size = 16\n",
    "df = pd.read_csv('dataset.csv')\n",
    "labels = df['Artifact Id']\n",
    "label_counts = labels.value_counts()\n",
    "filtered_labels = label_counts[(label_counts >= 5) & (label_counts <= 200)] # Remove \"Command\" label\n",
    "filtered_labels_list = filtered_labels.index.tolist()\n",
    "def tokenize_data(texts, tokenizer):\n",
    "    return tokenizer(texts, padding=True, truncation=True, return_tensors='pt', max_length=512)\n",
    "device = torch.device(\"cuda\" if torch.cuda.is_available() else \"cpu\")"
   ]
  },
  {
   "cell_type": "code",
   "execution_count": 34,
   "metadata": {},
   "outputs": [],
   "source": [
    "model_path = \"model_2024-12-03_16-37-16.pth\"\n",
    "model_path = \"my_dict.pth\"\n",
    "# model_path = \"best_model.pth\"\n",
    "# model_path = \"model_avr.pth\""
   ]
  },
  {
   "cell_type": "code",
   "execution_count": 35,
   "metadata": {},
   "outputs": [
    {
     "name": "stderr",
     "output_type": "stream",
     "text": [
      "Some weights of BertForSequenceClassification were not initialized from the model checkpoint at bert-base-uncased and are newly initialized: ['classifier.bias', 'classifier.weight']\n",
      "You should probably TRAIN this model on a down-stream task to be able to use it for predictions and inference.\n"
     ]
    },
    {
     "data": {
      "application/vnd.jupyter.widget-view+json": {
       "model_id": "028406ce40d44963a43c67d13097587b",
       "version_major": 2,
       "version_minor": 0
      },
      "text/plain": [
       "Making Predictions:   0%|          | 0/1 [00:00<?, ?it/s]"
      ]
     },
     "metadata": {},
     "output_type": "display_data"
    },
    {
     "name": "stdout",
     "output_type": "stream",
     "text": [
      "Predictions saved to baselineVSmodel_predictions.csv\n"
     ]
    }
   ],
   "source": [
    "baseline_csv = \"baseline.csv\"\n",
    "# baseline_csv = \"test_data.csv\"\n",
    "output_csv = \"baselineVSmodel_predictions.csv\"\n",
    "\n",
    "baseline_df = pd.read_csv(baseline_csv)\n",
    "\n",
    "saved_dict = torch.load(model_path, weights_only=True)\n",
    "\n",
    "_model = BertForSequenceClassification.from_pretrained(\n",
    "    'bert-base-uncased', \n",
    "    num_labels=len(filtered_labels_list)  \n",
    ")\n",
    "_model.load_state_dict(saved_dict)\n",
    "_model.to(device)\n",
    "_model.eval()\n",
    "\n",
    "tokenizer = BertTokenizer.from_pretrained('bert-base-uncased')\n",
    "encodings = tokenize_data(baseline_df['Example Description'].tolist(), tokenizer)\n",
    "dataset = TensorDataset(encodings['input_ids'], encodings['attention_mask'])\n",
    "data_loader = DataLoader(dataset, sampler=SequentialSampler(dataset), batch_size=batch_size) \n",
    "\n",
    "predictions = []\n",
    "with torch.no_grad():\n",
    "    for batch in tqdm(data_loader, desc=\"Making Predictions\"):\n",
    "        input_ids, attention_mask = [item.to(device) for item in batch]\n",
    "        outputs = _model(input_ids=input_ids, attention_mask=attention_mask)\n",
    "        logits = outputs.logits\n",
    "        preds = torch.argmax(logits, dim=-1)\n",
    "        predictions.extend(preds.cpu().tolist())\n",
    "\n",
    "prediction_column_name = f\"{model_path} prediction\"\n",
    "\n",
    "baseline_df[prediction_column_name] = [\n",
    "    filtered_labels_list[pred] for pred in predictions\n",
    "]\n",
    "\n",
    "# Keep baseline predictions for comparison\n",
    "# baseline_df['baseline Prediction'] = baseline_df['Prediction']\n",
    "\n",
    "# Save the predictions to CSV\n",
    "baseline_df[['Artifact Id', prediction_column_name]].to_csv(output_csv, index=False)\n",
    "print(f\"Predictions saved to {output_csv}\")"
   ]
  },
  {
   "cell_type": "code",
   "execution_count": 36,
   "metadata": {},
   "outputs": [
    {
     "name": "stdout",
     "output_type": "stream",
     "text": [
      "Baseline Model F1 Score (Weighted): 0.1667\n",
      "Baseline Model Accuracy: 18.75%\n",
      "Model F1 Score (Weighted): 0.1053\n",
      "Model Accuracy: 25.00%\n"
     ]
    }
   ],
   "source": [
    "true_labels = baseline_df['Artifact Id'].tolist()\n",
    "true_labels = [label.replace('d3f:', '') for label in baseline_df['Artifact Id'].tolist()]\n",
    "\n",
    "baseline_predictions = baseline_df['Prediction'].tolist()\n",
    "model_predictions = baseline_df[prediction_column_name].tolist()\n",
    "model_predictions = [label.replace('d3f:', '') for label in baseline_df[prediction_column_name].tolist()]\n",
    "\n",
    "# Calculate F1 Score for baseline model (assuming the labels are categorical)\n",
    "f1_baseline = f1_score(true_labels, baseline_predictions, average='weighted')\n",
    "f1_model = f1_score(true_labels, model_predictions, average='weighted')\n",
    "\n",
    "# Calculate accuracy for both models\n",
    "accuracy_baseline = np.sum(np.array(baseline_predictions) == np.array(true_labels)) / len(true_labels) * 100\n",
    "accuracy_model = np.sum(np.array(model_predictions) == np.array(true_labels)) / len(true_labels) * 100\n",
    "\n",
    "# Print out the results\n",
    "print(f\"Baseline Model F1 Score (Weighted): {f1_baseline:.4f}\")\n",
    "print(f\"Baseline Model Accuracy: {accuracy_baseline:.2f}%\")\n",
    "print(f\"Model F1 Score (Weighted): {f1_model:.4f}\")\n",
    "print(f\"Model Accuracy: {accuracy_model:.2f}%\")"
   ]
  },
  {
   "cell_type": "code",
   "execution_count": null,
   "metadata": {},
   "outputs": [],
   "source": []
  }
 ],
 "metadata": {
  "kernelspec": {
   "display_name": "llm_env",
   "language": "python",
   "name": "python3"
  },
  "language_info": {
   "codemirror_mode": {
    "name": "ipython",
    "version": 3
   },
   "file_extension": ".py",
   "mimetype": "text/x-python",
   "name": "python",
   "nbconvert_exporter": "python",
   "pygments_lexer": "ipython3",
   "version": "3.12.3"
  }
 },
 "nbformat": 4,
 "nbformat_minor": 2
}
