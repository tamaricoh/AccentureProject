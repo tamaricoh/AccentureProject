{
 "cells": [
  {
   "cell_type": "code",
   "execution_count": 1,
   "metadata": {},
   "outputs": [
    {
     "name": "stdout",
     "output_type": "stream",
     "text": [
      "Artifact Id\n",
      "d3f:Command                      250\n",
      "d3f:Database                      16\n",
      "d3f:Software                      16\n",
      "d3f:HardwareDriver                14\n",
      "d3f:DisplayServer                 11\n",
      "d3f:OperatingSystem                8\n",
      "d3f:FileSystem                     7\n",
      "d3f:BootLoader                     6\n",
      "d3f:InterprocessCommunication      5\n",
      "Name: count, dtype: int64\n",
      "Artifact Id\n",
      "d3f:Database                     16\n",
      "d3f:Software                     16\n",
      "d3f:Command                      16\n",
      "d3f:HardwareDriver               14\n",
      "d3f:DisplayServer                11\n",
      "d3f:OperatingSystem               8\n",
      "d3f:FileSystem                    7\n",
      "d3f:BootLoader                    6\n",
      "d3f:InterprocessCommunication     5\n",
      "Name: count, dtype: int64\n"
     ]
    },
    {
     "name": "stderr",
     "output_type": "stream",
     "text": [
      "Some weights of BertForSequenceClassification were not initialized from the model checkpoint at bert-base-uncased and are newly initialized: ['classifier.bias', 'classifier.weight']\n",
      "You should probably TRAIN this model on a down-stream task to be able to use it for predictions and inference.\n",
      "c:\\Users\\tamar\\anaconda3\\envs\\llm_env\\Lib\\site-packages\\transformers\\optimization.py:591: FutureWarning: This implementation of AdamW is deprecated and will be removed in a future version. Use the PyTorch implementation torch.optim.AdamW instead, or set `no_deprecation_warning=True` to disable this warning\n",
      "  warnings.warn(\n"
     ]
    }
   ],
   "source": [
    "import pandas as pd\n",
    "from projAll import combined_df, filtered_labels_at_least_5_list\n",
    "from llama import LLAMA31_8B_LLM"
   ]
  },
  {
   "cell_type": "code",
   "execution_count": 2,
   "metadata": {},
   "outputs": [],
   "source": [
    "def rephrase(description, author):\n",
    "    \"\"\"\n",
    "    Rephrases the given description as if it were written by the specified author.\n",
    "    \n",
    "    Args:\n",
    "        description (str): The text to be rephrased.\n",
    "        author (str): The name of the person whose writing style is to be emulated.\n",
    "        \n",
    "    Returns:\n",
    "        str: The rephrased description.\n",
    "    \"\"\"\n",
    "    message = LLAMA31_8B_LLM.invoke(\n",
    "        f\"Rewrite the following description as if it were written by {author['author_title']} who is an expert in {author['expertise']}, without introducing or describing the rewritten text. Provide only the rephrased version: {description}\"\n",
    "    )\n",
    "    return message.content\n"
   ]
  },
  {
   "cell_type": "code",
   "execution_count": 3,
   "metadata": {},
   "outputs": [],
   "source": [
    "authors = [\n",
    "    {\n",
    "        \"author_title\": \"Senior Developer\",\n",
    "        \"expertise\": \"Unix commands, software development tools, and debugging utilities.\"\n",
    "    },\n",
    "    {\n",
    "        \"author_title\": \"Security Researcher\",\n",
    "        \"expertise\": \"Network protocols, interprocess communication, and hardware drivers.\"\n",
    "    },\n",
    "    {\n",
    "        \"author_title\": \"Database Architect\",\n",
    "        \"expertise\": \"Designing, scaling, and managing distributed and graph databases.\"\n",
    "    },\n",
    "    {\n",
    "        \"author_title\": \"Software Engineer\",\n",
    "        \"expertise\": \"Developing cross-platform applications, robotics software, and open-source projects.\"\n",
    "    },\n",
    "    {\n",
    "        \"author_title\": \"Technical Writer\",\n",
    "        \"expertise\": \"Documenting technical tools, APIs, and usage guides for software and hardware.\"\n",
    "    },\n",
    "    {\n",
    "        \"author_title\": \"Robotics Developer\",\n",
    "        \"expertise\": \"Developing software for robotics, complex systems, and distributed component architectures.\"\n",
    "    }\n",
    "]"
   ]
  },
  {
   "cell_type": "code",
   "execution_count": 4,
   "metadata": {},
   "outputs": [],
   "source": [
    "df = combined_df\n",
    "num_of_labels = len(filtered_labels_at_least_5_list)\n",
    "grouped_df = df.groupby('Artifact Id')\n",
    "df_dict = {artifact_id: group for artifact_id, group in grouped_df}\n",
    "label_dfs = {}\n",
    "\n",
    "for label in filtered_labels_at_least_5_list:\n",
    "    label_dfs[label] = df_dict.get(label, pd.DataFrame())"
   ]
  },
  {
   "cell_type": "code",
   "execution_count": 5,
   "metadata": {},
   "outputs": [
    {
     "name": "stdout",
     "output_type": "stream",
     "text": [
      "Processing DataFrame for label: d3f:Command\n",
      "Processing DataFrame for label: d3f:Database\n",
      "Processing DataFrame for label: d3f:Software\n",
      "Processing DataFrame for label: d3f:HardwareDriver\n",
      "Processing DataFrame for label: d3f:DisplayServer\n",
      "Processing DataFrame for label: d3f:OperatingSystem\n",
      "Processing DataFrame for label: d3f:FileSystem\n",
      "Processing DataFrame for label: d3f:BootLoader\n",
      "Processing DataFrame for label: d3f:InterprocessCommunication\n"
     ]
    }
   ],
   "source": [
    "new_rows = []  # To store the modified rows\n",
    "\n",
    "for label, label_df in label_dfs.items():\n",
    "    print(f\"Processing DataFrame for label: {label}\")\n",
    "    for index, row in label_df.iterrows():\n",
    "        description = row['Example Description']\n",
    "        for author in authors:\n",
    "            new_description = rephrase(description, author)\n",
    "            \n",
    "            # Create a copy of the row with updated fields\n",
    "            updated_row = row.copy()\n",
    "            updated_row['Example Description'] = new_description\n",
    "            updated_row['Example Source'] = \"LLAMA3\"\n",
    "            \n",
    "            # Add the updated row to the list\n",
    "            new_rows.append(updated_row)"
   ]
  },
  {
   "cell_type": "code",
   "execution_count": 6,
   "metadata": {},
   "outputs": [],
   "source": [
    "updated_df = pd.DataFrame(new_rows)\n",
    "# merged_df = pd.concat([combined_df, updated_df], ignore_index=True)\n",
    "updated_df.to_csv('csv/dataset_aug.csv', index=False)"
   ]
  },
  {
   "cell_type": "code",
   "execution_count": 7,
   "metadata": {},
   "outputs": [
    {
     "name": "stdout",
     "output_type": "stream",
     "text": [
      "99\n",
      "6\n",
      "594\n"
     ]
    }
   ],
   "source": [
    "print(len(combined_df))\n",
    "print(len(authors))\n",
    "print(len(updated_df))"
   ]
  },
  {
   "cell_type": "code",
   "execution_count": 8,
   "metadata": {},
   "outputs": [
    {
     "name": "stdout",
     "output_type": "stream",
     "text": [
      "The ABCs are:\n",
      "\n",
      "A, B, C, D, E, F, G, H, I, J, K, L, M, N, O, P, Q, R, S, T, U, V, W, X, Y, Z.\n"
     ]
    }
   ],
   "source": [
    "message = LLAMA31_8B_LLM.invoke(\"write the abc..\")\n",
    "print(message.content)"
   ]
  }
 ],
 "metadata": {
  "kernelspec": {
   "display_name": "llm_env",
   "language": "python",
   "name": "python3"
  },
  "language_info": {
   "codemirror_mode": {
    "name": "ipython",
    "version": 3
   },
   "file_extension": ".py",
   "mimetype": "text/x-python",
   "name": "python",
   "nbconvert_exporter": "python",
   "pygments_lexer": "ipython3",
   "version": "3.12.3"
  }
 },
 "nbformat": 4,
 "nbformat_minor": 2
}
